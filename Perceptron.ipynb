{
  "nbformat": 4,
  "nbformat_minor": 0,
  "metadata": {
    "colab": {
      "provenance": []
    },
    "kernelspec": {
      "name": "python3",
      "display_name": "Python 3"
    },
    "language_info": {
      "name": "python"
    }
  },
  "cells": [
    {
      "cell_type": "markdown",
      "source": [
        "## Inteligencia Artificial\n",
        "## Nicolas Garzon Carvajal\n",
        "## Juan Felipe Balaguera\n"
      ],
      "metadata": {
        "id": "k84YEgoj1AuL"
      }
    },
    {
      "cell_type": "code",
      "source": [
        "import random\n",
        "\n",
        "class Perceptron:\n",
        "    def __init__(self, input_size, learning_rate=0.1, epochs=100):\n",
        "        self.weights = [random.uniform(-1, 1) for _ in range(input_size)]\n",
        "        self.bias = random.uniform(-1, 1)\n",
        "        self.learning_rate = learning_rate\n",
        "        self.epochs = epochs\n",
        "\n",
        "    def activation(self, x):\n",
        "        return 1 if x >= 0 else 0\n",
        "\n",
        "    def predict(self, inputs):\n",
        "        weighted_sum = sum(w * i for w, i in zip(self.weights, inputs)) + self.bias\n",
        "        return self.activation(weighted_sum)\n",
        "\n",
        "    def train(self, training_data):\n",
        "        for _ in range(self.epochs):\n",
        "            for inputs, expected in training_data:\n",
        "                prediction = self.predict(inputs)\n",
        "                error = expected - prediction\n",
        "\n",
        "                # Update weights and bias\n",
        "                self.weights = [w + self.learning_rate * error * i for w, i in zip(self.weights, inputs)]\n",
        "                self.bias += self.learning_rate * error\n",
        "\n",
        "# Definir datos de entrenamiento para compuertas AND y OR\n",
        "and_training_data = [\n",
        "    ([0, 0], 0),\n",
        "    ([0, 1], 0),\n",
        "    ([1, 0], 0),\n",
        "    ([1, 1], 1)\n",
        "]\n",
        "\n",
        "or_training_data = [\n",
        "    ([0, 0], 0),\n",
        "    ([0, 1], 1),\n",
        "    ([1, 0], 1),\n",
        "    ([1, 1], 1)\n",
        "]\n",
        "\n",
        "# Crear y entrena perceptrón para AND\n",
        "perceptron_and = Perceptron(input_size=2)\n",
        "perceptron_and.train(and_training_data)\n",
        "\n",
        "# Crea y entrena perceptrón para OR\n",
        "perceptron_or = Perceptron(input_size=2)\n",
        "perceptron_or.train(or_training_data)\n",
        "\n",
        "# Prueba para el modelo\n",
        "print(\"Compuerta AND:\")\n",
        "for inputs, _ in and_training_data:\n",
        "    print(f\"Entrada: {inputs}, Salida: {perceptron_and.predict(inputs)}\")\n",
        "\n",
        "print(\"\\nCompuerta OR:\")\n",
        "for inputs, _ in or_training_data:\n",
        "    print(f\"Entrada: {inputs}, Salida: {perceptron_or.predict(inputs)}\")\n"
      ],
      "metadata": {
        "colab": {
          "base_uri": "https://localhost:8080/"
        },
        "id": "ObPdULB3qAQ2",
        "outputId": "e7941941-91d5-496f-d0bb-e08277c02aaf"
      },
      "execution_count": 3,
      "outputs": [
        {
          "output_type": "stream",
          "name": "stdout",
          "text": [
            "Compuerta AND:\n",
            "Entrada: [0, 0], Salida: 0\n",
            "Entrada: [0, 1], Salida: 0\n",
            "Entrada: [1, 0], Salida: 0\n",
            "Entrada: [1, 1], Salida: 1\n",
            "\n",
            "Compuerta OR:\n",
            "Entrada: [0, 0], Salida: 0\n",
            "Entrada: [0, 1], Salida: 1\n",
            "Entrada: [1, 0], Salida: 1\n",
            "Entrada: [1, 1], Salida: 1\n"
          ]
        }
      ]
    }
  ]
}